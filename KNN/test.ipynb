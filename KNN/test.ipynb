{
 "cells": [
  {
   "cell_type": "code",
   "execution_count": null,
   "metadata": {},
   "outputs": [],
   "source": [
    "from Algorithm import KNNAlgorithm\n",
    "import numpy as np\n",
    "\n",
    "\n",
    "def readTxtData(fileName:str):\n",
    "    with open(fileName, mode='r') as file:\n",
    "        lines = file.readlines()\n",
    "        lineNum = len(lines)\n",
    "        result = np.zeros([lineNum, 3])\n",
    "        classLabelVector = []\n",
    "        for i in range(lineNum):\n",
    "            line = lines[i].strip()\n",
    "            data = line.split()\n",
    "            result[i, :] = data[:3]\n",
    "            classLabelVector.append(int(data[i]))\n",
    "        return \n",
    "            \n",
    "if __name__ == '__main__':\n",
    "    knn = KNNAlgorithm()\n",
    "    readTxtData('datingTestSet2.txt')"
   ]
  },
  {
   "cell_type": "code",
   "execution_count": null,
   "metadata": {},
   "outputs": [],
   "source": [
    "data"
   ]
  },
  {
   "cell_type": "code",
   "execution_count": null,
   "metadata": {},
   "outputs": [],
   "source": []
  }
 ],
 "metadata": {
  "kernelspec": {
   "display_name": "Python 3",
   "language": "python",
   "name": "python3"
  },
  "language_info": {
   "codemirror_mode": {
    "name": "ipython",
    "version": 3
   },
   "file_extension": ".py",
   "mimetype": "text/x-python",
   "name": "python",
   "nbconvert_exporter": "python",
   "pygments_lexer": "ipython3",
   "version": "3.6.1"
  }
 },
 "nbformat": 4,
 "nbformat_minor": 2
}
